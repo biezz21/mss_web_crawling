{
 "cells": [
  {
   "cell_type": "code",
   "execution_count": 1,
   "metadata": {},
   "outputs": [],
   "source": [
    "from urllib.request import urlopen\n",
    "from bs4 import BeautifulSoup"
   ]
  },
  {
   "cell_type": "code",
   "execution_count": 3,
   "metadata": {},
   "outputs": [],
   "source": [
    "html = urlopen('https://www.mss.go.kr/site/smba/ex/bbs/List.do?cbIdx=310')\n",
    "bsobject = BeautifulSoup(html, \"html.parser\")"
   ]
  },
  {
   "cell_type": "code",
   "execution_count": 4,
   "metadata": {},
   "outputs": [],
   "source": [
    "get_list = []\n",
    "for link in bsobject.select('#contents_inner > div > table > tbody > tr > td:nth-child(2) > a'):\n",
    "    link_el = link.string\n",
    "    link_el = link_el.replace('\\r\\n\\t\\t\\t\\t\\t\\t\\t\\t\\t\\t\\r\\n\\t\\t\\t\\t\\t\\t\\t\\t\\t\\t','')\n",
    "    link_el = link_el.replace('\\r\\n\\t\\t\\t\\t\\t\\t\\t\\t','')\n",
    "    get_list.append(link_el)"
   ]
  },
  {
   "cell_type": "code",
   "execution_count": 5,
   "metadata": {},
   "outputs": [],
   "source": [
    "date = []\n",
    "for link in bsobject.select('#contents_inner > div > table > tbody > tr > td:nth-child(7)'):\n",
    "    date.append(link.string)"
   ]
  },
  {
   "cell_type": "code",
   "execution_count": 6,
   "metadata": {},
   "outputs": [],
   "source": [
    "text_list = []\n",
    "for x,y in zip(get_list, date):\n",
    "    text_list.append(\"공고명: %s \\n등록일: %s \\n\"%(x,y))"
   ]
  },
  {
   "cell_type": "code",
   "execution_count": 7,
   "metadata": {},
   "outputs": [],
   "source": [
    "import pickle\n",
    "import gzip\n",
    "import smtplib\n",
    "from email.mime.text import MIMEText\n",
    "import datetime"
   ]
  },
  {
   "cell_type": "code",
   "execution_count": 8,
   "metadata": {},
   "outputs": [],
   "source": [
    "with gzip.open('notices.pkl', 'rb') as f:\n",
    "    notices_list = pickle.load(f)"
   ]
  },
  {
   "cell_type": "code",
   "execution_count": 9,
   "metadata": {},
   "outputs": [],
   "source": [
    "dt = datetime.datetime.now()"
   ]
  },
  {
   "cell_type": "code",
   "execution_count": 10,
   "metadata": {},
   "outputs": [],
   "source": [
    "if get_list.sort() != notices_list.sort():\n",
    "    text = '\\n'.join(text_list)\n",
    "    # 세션 생성 gmail port number => 587\n",
    "    s = smtplib.SMTP('smtp.gmail.com', 587)\n",
    "    s.starttls()\n",
    "    s.login('biezz0210','qtephxgbgtlhklso')\n",
    "    today = \"%d_%d_%d %s:%s\"%(dt.year, dt.month, dt.day, dt.hour, dt.minute)\n",
    "    msg = MIMEText('%s\\nhttps://www.mss.go.kr/site/smba/mss/ex/bbs/List.do?cbIdx=310'%text)\n",
    "    msg['Subject'] = today\n",
    "    s.sendmail(\"biezz0210\",\"kangyangjae@plantprofile.net\", msg.as_string())\n",
    "    with gzip.open('notices.pkl','wb') as f:\n",
    "        pickle.dump(get_list, f)"
   ]
  },
  {
   "cell_type": "code",
   "execution_count": 11,
   "metadata": {},
   "outputs": [],
   "source": [
    "if get_list.sort() == notices_list.sort():\n",
    "    text = '\\n'.join(text_list)\n",
    "    # 세션 생성 gmail port number => 587\n",
    "    s = smtplib.SMTP('smtp.gmail.com', 587)\n",
    "    s.starttls()\n",
    "    s.login('biezz0210','qtephxgbgtlhklso')\n",
    "    today = \"%d_%d_%d %s:%s\"%(dt.year, dt.month, dt.day, dt.hour, dt.minute)\n",
    "    msg = MIMEText('%s\\nhttps://www.mss.go.kr/site/smba/mss/ex/bbs/List.do?cbIdx=310'%text)\n",
    "    msg['Subject'] = today\n",
    "    s.sendmail(\"biezz0210\",\"gglee0210@naver.com\", msg.as_string())\n",
    "    with gzip.open('notices.pkl','wb') as f:\n",
    "        pickle.dump(get_list, f)"
   ]
  },
  {
   "cell_type": "code",
   "execution_count": 12,
   "metadata": {},
   "outputs": [],
   "source": [
    "get_list = []\n",
    "for link in bsobject.select('#contents_inner > div > table > tbody > tr > td:nth-child(2) > a'):\n",
    "    link_el = link.text\n",
    "    get_list.append(link_el)"
   ]
  },
  {
   "cell_type": "code",
   "execution_count": 13,
   "metadata": {},
   "outputs": [
    {
     "data": {
      "text/plain": [
       "['\\r\\n\\t\\t\\t\\t\\t\\t\\t\\t\\t\\t\\r\\n\\t\\t\\t\\t\\t\\t\\t\\t\\t\\t2020년 중소기업 연구인력지원사업 공고\\r\\n\\t\\t\\t\\t\\t\\t\\t\\t',\n",
       " '\\r\\n\\t\\t\\t\\t\\t\\t\\t\\t\\t\\t\\r\\n\\t\\t\\t\\t\\t\\t\\t\\t\\t\\t[중소벤처기업부_공고_제2020-2호]_2020년_중기부_창업지원사업_통합_시행계획_공고\\r\\n\\t\\t\\t\\t\\t\\t\\t\\t',\n",
       " '\\r\\n\\t\\t\\t\\t\\t\\t\\t\\t\\t\\t\\r\\n\\t\\t\\t\\t\\t\\t\\t\\t\\t\\t[중소벤처기업부_공고_제2020-1호]_2020년_정부_창업지원사업_통합공고\\r\\n\\t\\t\\t\\t\\t\\t\\t\\t',\n",
       " '\\r\\n\\t\\t\\t\\t\\t\\t\\t\\t\\t\\t\\r\\n\\t\\t\\t\\t\\t\\t\\t\\t\\t\\t[공고문] 2020년 BIG3분야 중소벤처기업 혁신성장 지원을 위한 주관기관 모집 공고\\r\\n\\t\\t\\t\\t\\t\\t\\t\\t',\n",
       " '\\r\\n\\t\\t\\t\\t\\t\\t\\t\\t\\t\\t\\r\\n\\t\\t\\t\\t\\t\\t\\t\\t\\t\\t「2020년 청소년 비즈쿨」 운영학교(센터) 추가 모집 공고\\r\\n\\t\\t\\t\\t\\t\\t\\t\\t',\n",
       " '\\r\\n\\t\\t\\t\\t\\t\\t\\t\\t\\t\\t\\r\\n\\t\\t\\t\\t\\t\\t\\t\\t\\t\\t2020년 엔젤투자활성화 보조사업자 모집 공고\\r\\n\\t\\t\\t\\t\\t\\t\\t\\t',\n",
       " '\\r\\n\\t\\t\\t\\t\\t\\t\\t\\t\\t\\t\\r\\n\\t\\t\\t\\t\\t\\t\\t\\t\\t\\t2020년 창업도약패키지 지원사업 사업화지원 창업기업 모집 공고\\r\\n\\t\\t\\t\\t\\t\\t\\t\\t',\n",
       " '\\r\\n\\t\\t\\t\\t\\t\\t\\t\\t\\t\\t\\r\\n\\t\\t\\t\\t\\t\\t\\t\\t\\t\\t2020년도 시군구 지역연고사업 육성(비R&D) 지원 계획 공고\\r\\n\\t\\t\\t\\t\\t\\t\\t\\t',\n",
       " '\\r\\n\\t\\t\\t\\t\\t\\t\\t\\t\\t\\t\\r\\n\\t\\t\\t\\t\\t\\t\\t\\t\\t\\t2020년도 기술혁신기반조성을 위한 보조사업자 선정계획 재공고\\r\\n\\t\\t\\t\\t\\t\\t\\t\\t',\n",
       " '\\r\\n\\t\\t\\t\\t\\t\\t\\t\\t\\t\\t\\r\\n\\t\\t\\t\\t\\t\\t\\t\\t\\t\\t2020년 지역특화산업육성사업 지원계획 수정 공고\\r\\n\\t\\t\\t\\t\\t\\t\\t\\t']"
      ]
     },
     "execution_count": 13,
     "metadata": {},
     "output_type": "execute_result"
    }
   ],
   "source": [
    "get_list"
   ]
  },
  {
   "cell_type": "code",
   "execution_count": null,
   "metadata": {},
   "outputs": [],
   "source": []
  }
 ],
 "metadata": {
  "kernelspec": {
   "display_name": "Python 3",
   "language": "python",
   "name": "python3"
  },
  "language_info": {
   "codemirror_mode": {
    "name": "ipython",
    "version": 3
   },
   "file_extension": ".py",
   "mimetype": "text/x-python",
   "name": "python",
   "nbconvert_exporter": "python",
   "pygments_lexer": "ipython3",
   "version": "3.7.4"
  }
 },
 "nbformat": 4,
 "nbformat_minor": 4
}
